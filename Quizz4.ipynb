{
 "cells": [
  {
   "cell_type": "markdown",
   "id": "c4ec183c-abd3-4094-b265-4a7d0e8db2ba",
   "metadata": {},
   "source": [
    "# Quiz#4\n",
    "* Name KAZIM TANVEER\n",
    "* UMER TANVEER"
   ]
  },
  {
   "cell_type": "markdown",
   "id": "2a98d306-130b-45cb-b8c4-762a371c185a",
   "metadata": {},
   "source": [
    "# What is machine learning?\n",
    "Machine learning is the branch of artifical intelligence where systems learn the patterns from data aand make decsions and predictions  without doing the explict programming "
   ]
  },
  {
   "cell_type": "markdown",
   "id": "1bb56fc1-cb68-40fb-984d-2648023595e2",
   "metadata": {},
   "source": [
    "# 2. What are the three main types of machine learning?\n",
    "three types of machine learning are:\n",
    "Supervised learning \n",
    "Unsupervised learning\n",
    "Reinforcement learning "
   ]
  },
  {
   "cell_type": "markdown",
   "id": "e432ec40-968f-435d-9e8e-e915a76823e2",
   "metadata": {},
   "source": [
    "# 3. Define supervised learning and provide an example\n",
    "Supervised learning used labeled data to train to models.Its uses both inpuy adn output \n",
    "example : predicting the house price using feature like price ,location,size "
   ]
  },
  {
   "cell_type": "markdown",
   "id": "a2ce64d5-24c3-4678-b483-e7bcadeff881",
   "metadata": {},
   "source": [
    "# Define unsupervised learning and provide an example.\n",
    "Unsupervised learning used umlabeled data to find  patterns.It uses inpts only \n",
    "example :  Customer Segmentation using clustering"
   ]
  },
  {
   "cell_type": "markdown",
   "id": "a129b950-cdb2-4de0-be6e-a7ec75525ca0",
   "metadata": {},
   "source": [
    "# 5. What is reinforcement learning?\n",
    "Reinforcement Learning learns through trials and test errors using rewards and panelties method \n",
    "eg:training a robort  for a walk"
   ]
  },
  {
   "cell_type": "markdown",
   "id": "e80c7968-0160-44ca-8154-57d1a050b6d3",
   "metadata": {},
   "source": [
    "# 6. What is the difference between classification and regression?\n",
    "Classification predicts  catagories \n",
    "eg: spam dectection\n",
    "Regression predicts continous values,\n",
    "eg : Temperature "
   ]
  },
  {
   "cell_type": "markdown",
   "id": "57f7b9ea-806b-4a7b-b763-6c98073b7be9",
   "metadata": {},
   "source": [
    "# 7. What is overfitting in machine learning?\n",
    "model memorize traning data including noice leading to poor generalization."
   ]
  },
  {
   "cell_type": "markdown",
   "id": "5529c861-960e-4f11-afc1-b2cdb5def371",
   "metadata": {},
   "source": [
    "# 8. What is underfitting in machine learning?\n",
    "Underfitting when model is too simple to capture data patterns performing poorly on all data"
   ]
  },
  {
   "cell_type": "markdown",
   "id": "376e934e-ab6f-4a55-b125-551dae840b35",
   "metadata": {},
   "source": [
    "# 9. What is a feature in machine learning?\n",
    "Input variable used for predictions\n",
    "e.g., \"age\" in a loan approval model."
   ]
  },
  {
   "cell_type": "markdown",
   "id": "5bf65090-f5e5-4203-b7d1-fafd8dd27eda",
   "metadata": {},
   "source": [
    "# 10. What is a label in supervised learning?\n",
    "Output variable in supervised learning\n",
    "e.g., \"spam\" in email classification."
   ]
  },
  {
   "cell_type": "markdown",
   "id": "413c647b-7f44-40bf-81ae-fe8c87705e0c",
   "metadata": {},
   "source": [
    "# k-means Clustering?\n",
    "Groups data into k clusters based on similarity (e.g., market segmentation)."
   ]
  },
  {
   "cell_type": "markdown",
   "id": "6eb47ea3-2fa2-422c-a69d-7f838a7dec56",
   "metadata": {},
   "source": [
    "# 1= What is Python, and why is it widely used in data science?\n",
    "* Python is a programming language widely used for Data scientists.\n",
    "* It contains builtin libraries like Pandas , numpy ,scikit , etc that are very usefull for statistics and analysis of data.\n",
    "* It is easy to perform amthematically operations and performs analysis.\n",
    "* Its clean syntax and simplicty make it a choice for beginners."
   ]
  },
  {
   "cell_type": "markdown",
   "id": "33e4bb08-d5fe-4e48-a9de-41eb9dd08618",
   "metadata": {},
   "source": [
    "# 2= Explain the difference between a variable and a constant in Python?\n",
    "## variable\n",
    "* A variable is used to store values in  Dataframe and its values canbe change according to requirments.\n",
    "* e.g x=[5,6]\n",
    "## constant\n",
    "* A constant is also a veriable but its value is fixed and can't be change with the requirment.\n",
    "* e.g PI=3.141567"
   ]
  },
  {
   "cell_type": "markdown",
   "id": "04cfdd30-8b42-4a8c-b0f3-20361cf59131",
   "metadata": {},
   "source": [
    "# 3=How do you create a Pandas DataFrame from a dictionary?"
   ]
  },
  {
   "cell_type": "code",
   "execution_count": 5,
   "id": "150b7ef3-d259-4358-a756-f0bc6fc71995",
   "metadata": {},
   "outputs": [
    {
     "name": "stdout",
     "output_type": "stream",
     "text": [
      "      Name  Age      City\n",
      "0    Alice   25  New York\n",
      "1      Bob   30    London\n",
      "2  Charlie   22     Paris\n"
     ]
    }
   ],
   "source": [
    "# We can create a dataframe from a dictionary by using the syntax.\n",
    "# df = pd.DataFrame()\n",
    "\n",
    "import pandas as pd\n",
    "import numpy as np\n",
    "data = {'Name': ['Alice', 'Bob', 'Charlie'],\n",
    "        'Age': [25, 30, 22],\n",
    "        'City': ['New York', 'London', 'Paris']}\n",
    "df = pd.DataFrame(data)\n",
    "print(df)"
   ]
  },
  {
   "cell_type": "markdown",
   "id": "c52cec42-ad85-4634-bdb3-8eb97d227bfe",
   "metadata": {},
   "source": [
    "# 4=How do you display the first five rows of a Pandas DataFrame?"
   ]
  },
  {
   "cell_type": "code",
   "execution_count": 7,
   "id": "2e212b9d-c9af-417e-a613-028f76a035ed",
   "metadata": {},
   "outputs": [
    {
     "data": {
      "text/html": [
       "<div>\n",
       "<style scoped>\n",
       "    .dataframe tbody tr th:only-of-type {\n",
       "        vertical-align: middle;\n",
       "    }\n",
       "\n",
       "    .dataframe tbody tr th {\n",
       "        vertical-align: top;\n",
       "    }\n",
       "\n",
       "    .dataframe thead th {\n",
       "        text-align: right;\n",
       "    }\n",
       "</style>\n",
       "<table border=\"1\" class=\"dataframe\">\n",
       "  <thead>\n",
       "    <tr style=\"text-align: right;\">\n",
       "      <th></th>\n",
       "      <th>name</th>\n",
       "      <th>last_name</th>\n",
       "      <th>age</th>\n",
       "      <th>department</th>\n",
       "    </tr>\n",
       "  </thead>\n",
       "  <tbody>\n",
       "    <tr>\n",
       "      <th>0</th>\n",
       "      <td>kazim</td>\n",
       "      <td>khan</td>\n",
       "      <td>20</td>\n",
       "      <td>cs</td>\n",
       "    </tr>\n",
       "    <tr>\n",
       "      <th>1</th>\n",
       "      <td>umer</td>\n",
       "      <td>tanveer</td>\n",
       "      <td>22</td>\n",
       "      <td>se</td>\n",
       "    </tr>\n",
       "    <tr>\n",
       "      <th>2</th>\n",
       "      <td>ali</td>\n",
       "      <td>amjd</td>\n",
       "      <td>23</td>\n",
       "      <td>ds</td>\n",
       "    </tr>\n",
       "    <tr>\n",
       "      <th>3</th>\n",
       "      <td>ahmed</td>\n",
       "      <td>umer</td>\n",
       "      <td>23</td>\n",
       "      <td>it</td>\n",
       "    </tr>\n",
       "    <tr>\n",
       "      <th>4</th>\n",
       "      <td>atif</td>\n",
       "      <td>safeer</td>\n",
       "      <td>24</td>\n",
       "      <td>bba</td>\n",
       "    </tr>\n",
       "  </tbody>\n",
       "</table>\n",
       "</div>"
      ],
      "text/plain": [
       "    name last_name  age department\n",
       "0  kazim      khan   20         cs\n",
       "1   umer   tanveer   22         se\n",
       "2    ali      amjd   23         ds\n",
       "3  ahmed      umer   23         it\n",
       "4   atif    safeer   24        bba"
      ]
     },
     "execution_count": 7,
     "metadata": {},
     "output_type": "execute_result"
    }
   ],
   "source": [
    "# To display first five rows of a data frame use following syntax.\n",
    "# df.head()\n",
    "\n",
    "data={\"name\":[\"kazim\",\"umer\",\"ali\",\"ahmed\",\"atif\",\"tayyab\",\"kashif\",\"asad\",\"tariq\",\"qamar\"],\n",
    "      \"last_name\":[\"khan\",\"tanveer\",\"amjd\",\"umer\",\"safeer\",\"asad\",\"tariq\",\"kashif\",\"hatim\",\"john\"],\n",
    "      \"age\":[20,22,23,23,24,25,26,30,31,32],\n",
    "      \"department\":[\"cs\",\"se\",\"ds\",\"it\",\"bba\",\"d_form\",\"bs_maths\",\"law\",\"english\",\"stats\"]}\n",
    "df = pd.DataFrame(data)\n",
    "df.head()"
   ]
  },
  {
   "cell_type": "markdown",
   "id": "c9ed5120-4176-4033-92da-4cf7af7fef1e",
   "metadata": {},
   "source": [
    "# 5=What is the difference between the loc and iloc indexers in Pandas? Provide examples?"
   ]
  },
  {
   "cell_type": "code",
   "execution_count": 9,
   "id": "bb32d83e-ee04-407b-ab51-9e588ce9030b",
   "metadata": {},
   "outputs": [
    {
     "name": "stdout",
     "output_type": "stream",
     "text": [
      "      Name  Age      City\n",
      "a    Alice   25  New York\n",
      "b      Bob   30    London\n",
      "c  Charlie   22     Paris\n",
      "the third value of age is\n"
     ]
    },
    {
     "data": {
      "text/plain": [
       "22"
      ]
     },
     "execution_count": 9,
     "metadata": {},
     "output_type": "execute_result"
    }
   ],
   "source": [
    "# loc:\n",
    "#  Label-based indexing: loc uses explicit labels or names to access data,\n",
    "#  this means you can directly specify the row and column labels you want to select.\n",
    "\n",
    "data = {'Name': ['Alice', 'Bob', 'Charlie'],\n",
    "        'Age': [25, 30, 22],\n",
    "        'City': ['New York', 'London', 'Paris']}\n",
    "df = pd.DataFrame(data)\n",
    "row=[\"a\",\"b\",\"c\"]\n",
    "df.index=row\n",
    "print(df)\n",
    "\n",
    "# select the third value of age\n",
    "print(\"the third value of age is\")\n",
    "df.loc[\"c\",\"Age\"]"
   ]
  },
  {
   "cell_type": "code",
   "execution_count": 10,
   "id": "9dd0f266-a502-4213-a54b-62c554a33037",
   "metadata": {},
   "outputs": [
    {
     "name": "stdout",
     "output_type": "stream",
     "text": [
      "    Name  Age      City\n",
      "a  Alice   25  New York\n",
      "b    Bob   30    London\n",
      "Name       Alice\n",
      "Age           25\n",
      "City    New York\n",
      "Name: a, dtype: object\n",
      "    Name  Age\n",
      "a  Alice   25\n",
      "b    Bob   30\n"
     ]
    }
   ],
   "source": [
    "# iloc:\n",
    "# Integer-based indexing: iloc uses integer positions to access data.\n",
    "# This means you specify the row and column positions (starting from 0) to select.\n",
    "# Select the first two rows\n",
    "print(df.iloc[0:2])\n",
    "\n",
    "# Select the first row and all columns\n",
    "print(df.iloc[0, :])\n",
    "\n",
    "# Select the first two rows and the first two columns\n",
    "print(df.iloc[0:2, 0:2])"
   ]
  },
  {
   "cell_type": "markdown",
   "id": "bbecbff8-ef29-43d5-a8d7-b0f2e6c159e9",
   "metadata": {},
   "source": [
    "# 6=.What is the purpose of the merge() function in Pandas? How does it differ from concat()?"
   ]
  },
  {
   "cell_type": "code",
   "execution_count": 12,
   "id": "a2c32571-09f8-4310-938c-73c6f19292d6",
   "metadata": {},
   "outputs": [
    {
     "name": "stdout",
     "output_type": "stream",
     "text": [
      "  EMPID   name last_name   age department\n",
      "0   E01   None      khan  20.0         cs\n",
      "1   E02   umer   tanveer  23.0         se\n",
      "2   E03    ali      amjd   NaN         ds\n",
      "3   E04  ahmed      umer  24.0         it\n",
      "4   E05   None    safeer   NaN        bba\n",
      "  EMPID    name last_name  salary  salary_2   age department\n",
      "0   E01  tayyab      asad    1000     16000  20.0     d_form\n",
      "1   E02  kashif     tariq    2000     28000  22.0   bs_maths\n",
      "2   E03    asad    kashif    3000     38000  23.0        law\n",
      "3   E04   tariq     hatim    4000     48000   NaN    english\n",
      "4   E06   qamar      john    5000      9000  24.0      stats\n"
     ]
    },
    {
     "data": {
      "text/html": [
       "<div>\n",
       "<style scoped>\n",
       "    .dataframe tbody tr th:only-of-type {\n",
       "        vertical-align: middle;\n",
       "    }\n",
       "\n",
       "    .dataframe tbody tr th {\n",
       "        vertical-align: top;\n",
       "    }\n",
       "\n",
       "    .dataframe thead th {\n",
       "        text-align: right;\n",
       "    }\n",
       "</style>\n",
       "<table border=\"1\" class=\"dataframe\">\n",
       "  <thead>\n",
       "    <tr style=\"text-align: right;\">\n",
       "      <th></th>\n",
       "      <th>EMPID</th>\n",
       "      <th>name</th>\n",
       "      <th>last_name</th>\n",
       "      <th>age</th>\n",
       "      <th>department</th>\n",
       "      <th>salary</th>\n",
       "      <th>salary_2</th>\n",
       "    </tr>\n",
       "  </thead>\n",
       "  <tbody>\n",
       "    <tr>\n",
       "      <th>0</th>\n",
       "      <td>E01</td>\n",
       "      <td>None</td>\n",
       "      <td>khan</td>\n",
       "      <td>20.0</td>\n",
       "      <td>cs</td>\n",
       "      <td>NaN</td>\n",
       "      <td>NaN</td>\n",
       "    </tr>\n",
       "    <tr>\n",
       "      <th>1</th>\n",
       "      <td>E02</td>\n",
       "      <td>umer</td>\n",
       "      <td>tanveer</td>\n",
       "      <td>23.0</td>\n",
       "      <td>se</td>\n",
       "      <td>NaN</td>\n",
       "      <td>NaN</td>\n",
       "    </tr>\n",
       "    <tr>\n",
       "      <th>2</th>\n",
       "      <td>E03</td>\n",
       "      <td>ali</td>\n",
       "      <td>amjd</td>\n",
       "      <td>NaN</td>\n",
       "      <td>ds</td>\n",
       "      <td>NaN</td>\n",
       "      <td>NaN</td>\n",
       "    </tr>\n",
       "    <tr>\n",
       "      <th>3</th>\n",
       "      <td>E04</td>\n",
       "      <td>ahmed</td>\n",
       "      <td>umer</td>\n",
       "      <td>24.0</td>\n",
       "      <td>it</td>\n",
       "      <td>NaN</td>\n",
       "      <td>NaN</td>\n",
       "    </tr>\n",
       "    <tr>\n",
       "      <th>4</th>\n",
       "      <td>E05</td>\n",
       "      <td>None</td>\n",
       "      <td>safeer</td>\n",
       "      <td>NaN</td>\n",
       "      <td>bba</td>\n",
       "      <td>NaN</td>\n",
       "      <td>NaN</td>\n",
       "    </tr>\n",
       "    <tr>\n",
       "      <th>0</th>\n",
       "      <td>E01</td>\n",
       "      <td>tayyab</td>\n",
       "      <td>asad</td>\n",
       "      <td>20.0</td>\n",
       "      <td>d_form</td>\n",
       "      <td>1000.0</td>\n",
       "      <td>16000.0</td>\n",
       "    </tr>\n",
       "    <tr>\n",
       "      <th>1</th>\n",
       "      <td>E02</td>\n",
       "      <td>kashif</td>\n",
       "      <td>tariq</td>\n",
       "      <td>22.0</td>\n",
       "      <td>bs_maths</td>\n",
       "      <td>2000.0</td>\n",
       "      <td>28000.0</td>\n",
       "    </tr>\n",
       "    <tr>\n",
       "      <th>2</th>\n",
       "      <td>E03</td>\n",
       "      <td>asad</td>\n",
       "      <td>kashif</td>\n",
       "      <td>23.0</td>\n",
       "      <td>law</td>\n",
       "      <td>3000.0</td>\n",
       "      <td>38000.0</td>\n",
       "    </tr>\n",
       "    <tr>\n",
       "      <th>3</th>\n",
       "      <td>E04</td>\n",
       "      <td>tariq</td>\n",
       "      <td>hatim</td>\n",
       "      <td>NaN</td>\n",
       "      <td>english</td>\n",
       "      <td>4000.0</td>\n",
       "      <td>48000.0</td>\n",
       "    </tr>\n",
       "    <tr>\n",
       "      <th>4</th>\n",
       "      <td>E06</td>\n",
       "      <td>qamar</td>\n",
       "      <td>john</td>\n",
       "      <td>24.0</td>\n",
       "      <td>stats</td>\n",
       "      <td>5000.0</td>\n",
       "      <td>9000.0</td>\n",
       "    </tr>\n",
       "  </tbody>\n",
       "</table>\n",
       "</div>"
      ],
      "text/plain": [
       "  EMPID    name last_name   age department  salary  salary_2\n",
       "0   E01    None      khan  20.0         cs     NaN       NaN\n",
       "1   E02    umer   tanveer  23.0         se     NaN       NaN\n",
       "2   E03     ali      amjd   NaN         ds     NaN       NaN\n",
       "3   E04   ahmed      umer  24.0         it     NaN       NaN\n",
       "4   E05    None    safeer   NaN        bba     NaN       NaN\n",
       "0   E01  tayyab      asad  20.0     d_form  1000.0   16000.0\n",
       "1   E02  kashif     tariq  22.0   bs_maths  2000.0   28000.0\n",
       "2   E03    asad    kashif  23.0        law  3000.0   38000.0\n",
       "3   E04   tariq     hatim   NaN    english  4000.0   48000.0\n",
       "4   E06   qamar      john  24.0      stats  5000.0    9000.0"
      ]
     },
     "execution_count": 12,
     "metadata": {},
     "output_type": "execute_result"
    }
   ],
   "source": [
    "# In concat two datasets are combined vertically and horizontally.\n",
    "# In merge two data sets are merged with speceific common columns or index.\n",
    "\n",
    "data1={\"EMPID\":[\"E01\",\"E02\",\"E03\",\"E04\",\"E05\"],\n",
    "    \"name\":[None,\"umer\",\"ali\",\"ahmed\",None],\n",
    "      \"last_name\":[\"khan\",\"tanveer\",\"amjd\",\"umer\",\"safeer\"],\n",
    "      \"age\":[20,23,None,24,None],\n",
    "      \"department\":[\"cs\",\"se\",\"ds\",\"it\",\"bba\"]}\n",
    "df1=pd.DataFrame(data1)\n",
    "print(df1)\n",
    "data2={\"EMPID\":[\"E01\",\"E02\",\"E03\",\"E04\",\"E06\"],\n",
    "    \"name\":[\"tayyab\",\"kashif\",\"asad\",\"tariq\",\"qamar\"],\n",
    "      \"last_name\":[\"asad\",\"tariq\",\"kashif\",\"hatim\",\"john\"],\n",
    "       \"salary\":[1000,2000,3000,4000,5000],\n",
    "       \"salary_2\":[16000,28000,38000,48000,9000],\n",
    "      \"age\":[20,22,23,None,24],\n",
    "      \"department\":[\"d_form\",\"bs_maths\",\"law\",\"english\",\"stats\"]}\n",
    "df2=pd.DataFrame(data2)\n",
    "print(df2)\n",
    "\n",
    "# for merge\n",
    "pd.merge(df1,df2,on=\"EMPID\")\n",
    "\n",
    "# for conacte\n",
    "pd.concat([df1,df2])"
   ]
  },
  {
   "cell_type": "markdown",
   "id": "45e92983-19aa-4aa6-9053-fe48d258fff0",
   "metadata": {},
   "source": [
    "# 7=.How do you sort a Pandas DataFrame by a specific column?"
   ]
  },
  {
   "cell_type": "code",
   "execution_count": 14,
   "id": "cfa8aae4-f6ad-466b-9671-b5d644a2a956",
   "metadata": {},
   "outputs": [
    {
     "name": "stdout",
     "output_type": "stream",
     "text": [
      "Sorted DataFrame (Ascending):\n",
      "       Name  Age       City\n",
      "2  Charlie   20    Chicago\n",
      "3    David   22    Houston\n",
      "0    Alice   25   New York\n",
      "1      Bob   30  San Diego\n",
      "\n",
      "Sorted DataFrame (Descending):\n",
      "       Name  Age       City\n",
      "1      Bob   30  San Diego\n",
      "0    Alice   25   New York\n",
      "3    David   22    Houston\n",
      "2  Charlie   20    Chicago\n"
     ]
    }
   ],
   "source": [
    "# Sample DataFrame\n",
    "data = {'Name': ['Alice', 'Bob', 'Charlie', 'David'],\n",
    "        'Age': [25, 30, 20, 22],\n",
    "        'City': ['New York', 'San Diego', 'Chicago', 'Houston']}\n",
    "df = pd.DataFrame(data)\n",
    "\n",
    "# Sort by 'Age' in ascending order\n",
    "df_sorted_asc = df.sort_values('Age')\n",
    "\n",
    "# Sort by 'Age' in descending order\n",
    "df_sorted_desc = df.sort_values('Age', ascending=False)\n",
    "\n",
    "print(\"Sorted DataFrame (Ascending):\\n\", df_sorted_asc)\n",
    "print(\"\\nSorted DataFrame (Descending):\\n\", df_sorted_desc)"
   ]
  },
  {
   "cell_type": "markdown",
   "id": "27c2dcdc-d624-49fd-b80d-56ace9ea3528",
   "metadata": {},
   "source": [
    "# 8=Create a Pandas DataFrame with sample data (e.g., student names and marks) and save it as a CSV file."
   ]
  },
  {
   "cell_type": "code",
   "execution_count": 16,
   "id": "b442cb11-7c7b-4c8c-9c43-1dd063151edd",
   "metadata": {},
   "outputs": [
    {
     "name": "stdout",
     "output_type": "stream",
     "text": [
      "DataFrame saved to student_marks.csv\n"
     ]
    }
   ],
   "source": [
    "# Sample data\n",
    "data = {\n",
    "    'Student': ['Alice', 'Bob', 'Charlie', 'David'],\n",
    "    'Math': [85, 92, 78, 95],\n",
    "    'Science': [90, 88, 82, 91],\n",
    "    'English': [88, 90, 85, 92]\n",
    "}\n",
    "\n",
    "# Create DataFrame\n",
    "df = pd.DataFrame(data)\n",
    "\n",
    "# Save to CSV\n",
    "df.to_csv('student_marks.csv', index=False)\n",
    "\n",
    "print(\"DataFrame saved to student_marks.csv\")"
   ]
  },
  {
   "cell_type": "markdown",
   "id": "151ae824-9e61-4893-b371-1d46fac6035b",
   "metadata": {},
   "source": [
    "# 9=How do you calculate the sum of values in a specific column of a Pandas DataFrame?"
   ]
  },
  {
   "cell_type": "code",
   "execution_count": 18,
   "id": "c9aefdaf-9c2d-4891-838c-6915845cbbab",
   "metadata": {},
   "outputs": [
    {
     "name": "stdout",
     "output_type": "stream",
     "text": [
      "Sum of 'Price' column: 2000\n"
     ]
    }
   ],
   "source": [
    "# Sample DataFrame\n",
    "data = {'Product': ['Laptop', 'Phone', 'Tablet', 'Watch'],\n",
    "        'Price': [1000, 500, 300, 200]}\n",
    "df = pd.DataFrame(data)\n",
    "\n",
    "# Calculate sum using 'sum()` method\n",
    "total_price = df['Price'].sum()\n",
    "\n",
    "print(\"Sum of 'Price' column:\", total_price)"
   ]
  },
  {
   "cell_type": "markdown",
   "id": "68e73f53-55fb-4b06-8bda-5717bd5caf78",
   "metadata": {},
   "source": [
    "# 10=Write a Python function that takes two numbers as arguments and returns their sum?"
   ]
  },
  {
   "cell_type": "code",
   "execution_count": 20,
   "id": "badd4bc7-5982-4b21-802e-94893efe14eb",
   "metadata": {},
   "outputs": [
    {
     "ename": "IndentationError",
     "evalue": "unexpected indent (517607613.py, line 7)",
     "output_type": "error",
     "traceback": [
      "\u001b[1;36m  Cell \u001b[1;32mIn[20], line 7\u001b[1;36m\u001b[0m\n\u001b[1;33m    num1: input.\u001b[0m\n\u001b[1;37m    ^\u001b[0m\n\u001b[1;31mIndentationError\u001b[0m\u001b[1;31m:\u001b[0m unexpected indent\n"
     ]
    }
   ],
   "source": [
    "def add_numbers(num1, num2):\n",
    "\n",
    "#  This function takes two numbers as arguments and returns their sum.\n",
    "\n",
    "  Args\n",
    "    \n",
    "    num1: input.\n",
    "    num2: input.\n",
    "\n",
    "  Returns:\n",
    "    The sum of num1 and num2.\n",
    "  return num1 + num2\n",
    "    \n",
    "# Example usage:\n",
    "result = add_numbers(5, 3)\n",
    "print(f\"The sum of 5 and 3 is: {result}\")  # Output: The sum of 5 and 3 is: 8"
   ]
  },
  {
   "cell_type": "markdown",
   "id": "cda9ed20-b00e-41e2-a1df-0c2ed717e7bc",
   "metadata": {},
   "source": [
    "# 11= Explain the difference between axis 0 and axis 1 in NumPy."
   ]
  },
  {
   "cell_type": "code",
   "execution_count": null,
   "id": "7c19d942-bedd-41ec-ad95-63e904926979",
   "metadata": {},
   "outputs": [],
   "source": [
    "#  Axis 0:\n",
    "#  * Represents the vertical axis or columns.\n",
    "#  * Operations along axis 0 are applied across rows.\n",
    "#  Axis 1:\n",
    "#  * Represents the horizontal axis or rows.\n",
    "#  * Operations along axis 1 are applied across columns.\n",
    "\n",
    "# Example:\n",
    "arr = np.array([[1, 2, 3], [4, 5, 6]])\n",
    "\n",
    "# Sum along axis 0 (column-wise sum)\n",
    "sum_axis_0 = np.sum(arr, axis=0)\n",
    "print(\"Sum along axis 0:\", sum_axis_0)  # Output: [5 7 9]\n",
    "\n",
    "# Sum along axis 1 (row-wise sum)\n",
    "sum_axis_1 = np.sum(arr, axis=1)\n",
    "print(\"Sum along axis 1:\", sum_axis_1)  # Output: [ 6 15]"
   ]
  },
  {
   "cell_type": "markdown",
   "id": "100fdf36-dd98-49d0-937a-88c37056f752",
   "metadata": {},
   "source": [
    "# 12=How can you rename the columns of a Pandas DataFrame?"
   ]
  },
  {
   "cell_type": "code",
   "execution_count": null,
   "id": "159da3ce-fd64-463a-87cc-3082099aacf3",
   "metadata": {},
   "outputs": [],
   "source": [
    "import pandas as pd\n",
    "\n",
    "df = pd.DataFrame({'old_col1': [1, 2], 'old_col2': [3, 4]})\n",
    "print(df)\n",
    "\n",
    "df.rename(columns={'old_col1': 'new_col1', 'old_col2': 'new_col2'}, inplace=True)\n",
    "\n",
    "print(df)"
   ]
  },
  {
   "cell_type": "markdown",
   "id": "8bd7727f-27d9-490d-88bb-0c65943d8da0",
   "metadata": {},
   "source": [
    "# 13=How do you handle missing data (NaN) in a Pandas DataFrame?"
   ]
  },
  {
   "cell_type": "code",
   "execution_count": null,
   "id": "8bd6f6fb-6e83-43a2-8cd8-ec3d75802ce1",
   "metadata": {},
   "outputs": [],
   "source": [
    "# Sample DataFrame with missing values\n",
    "data = {'A': [1, 2, np.nan, 4, 5],\n",
    "        'B': [np.nan, 2, 3, 4, 5],\n",
    "        'C': [1, 2, 3, np.nan, 5]}\n",
    "df = pd.DataFrame(data)\n",
    "\n",
    "# 1. Dropping Missing Values\n",
    "# Drop rows with any missing values\n",
    "df_dropped_rows = df.dropna() \n",
    "\n",
    "# Drop columns with any missing values\n",
    "df_dropped_cols = df.dropna(axis=1) \n",
    "\n",
    "# 2. Filling Missing Values\n",
    "# Fill missing values with a specific value (e.g., 0)\n",
    "df_filled_zero = df.fillna(0)\n",
    "\n",
    "# Fill missing values with the mean of the column\n",
    "df_filled_mean = df.fillna(df.mean())\n",
    "\n",
    "# Print the results\n",
    "print(\"Original DataFrame:\\n\", df)\n",
    "print(\"\\nDataFrame with Rows Dropped:\\n\", df_dropped_rows)\n",
    "print(\"\\nDataFrame with Columns Dropped:\\n\", df_dropped_cols)\n",
    "print(\"\\nDataFrame with Missing Values Filled with 0:\\n\", df_filled_zero)\n",
    "print(\"\\nDataFrame with Missing Values Filled with Column Mean:\\n\", df_filled_mean)"
   ]
  },
  {
   "cell_type": "markdown",
   "id": "3cbc2f3e-ed06-400f-8de1-66cee8906687",
   "metadata": {},
   "source": [
    "# 14= how do you create the paython dictionary,and how is it diferent from a list?"
   ]
  },
  {
   "cell_type": "code",
   "execution_count": 2,
   "id": "fa663d08-45f6-4980-99eb-2df4699f09d4",
   "metadata": {},
   "outputs": [
    {
     "name": "stdout",
     "output_type": "stream",
     "text": [
      "{'name': 'Alice', 'age': 25}\n",
      "['Alice', 25, 'New York']\n"
     ]
    }
   ],
   "source": [
    "# Structure:\n",
    "## paython Dictionary:\n",
    "# 1-Stores data in key-value pairs.\n",
    "# 2-The key is used to retrieve the value.\n",
    "# 3-Keys must be unique.\n",
    "\n",
    "### for example:\n",
    "my_dict = {'name': 'Alice', 'age': 25}\n",
    "print(my_dict)\n",
    "## List:\n",
    "# 1-Stores data as a collection of ordered elements, which are accessed by their index (integer).\n",
    "# 2-List elements are ordered and can have duplicates.\n",
    "### for example:\n",
    "my_list = ['Alice', 25, 'New York']\n",
    "print(my_list)"
   ]
  },
  {
   "cell_type": "markdown",
   "id": "98aa6396-69b2-4582-9c34-e701a80ce2f4",
   "metadata": {},
   "source": [
    "# 15=What are Python Tuples?"
   ]
  },
  {
   "cell_type": "code",
   "execution_count": null,
   "id": "42d20f78-b155-4e0c-b2c9-5655cf11709b",
   "metadata": {},
   "outputs": [],
   "source": [
    " ## paython tuples:\n",
    "#(they are immutable). Once you create a tuple, you cannot modify, add, or remove items from it. Tuples are defined using parentheses ().\n",
    "#syntax \n",
    "my_tuple = (1, 2, 3, 'apple')\n",
    "print(my_tuple)\n",
    "# example \n",
    "my_tuple = (10, 20, 30, 'Hello')\n",
    "print(my_tuple[0])  # Output: 10\n",
    "print(my_tuple[3])  # Output: Hello\n"
   ]
  },
  {
   "cell_type": "markdown",
   "id": "1b6a714e-6b6a-4ff3-b96f-244409215807",
   "metadata": {},
   "source": [
    "## When to Use a Tuple Over a List"
   ]
  },
  {
   "cell_type": "markdown",
   "id": "9c1f6443-2a20-440d-a456-826f45127a05",
   "metadata": {},
   "source": [
    "## 1-Immutability (Constant Data):\n",
    "\n",
    "Use tuples when you want to ensure that the data cannot be modified. This is useful in scenarios where the integrity of the data should remain unchanged (e.g., storing a set of configuration values or coordinates).\n",
    "### Example:\n",
    "coordinates = (40.7128, 74.0060)  # Latitude and Longitude of New York\n",
    "## 2-Performance:\n",
    "\n",
    "Tuples can be more memory efficient and faster than lists for accessing elements because they are immutable. If you have a collection of data that doesn’t need to change, using a tuple can provide a performance benefit.\n",
    "## 3-Data Integrity:\n",
    "\n",
    "If you want to ensure that the data remains unchanged throughout your program (i.e., it should not be accidentally modified), using a tuple is a good choice.\n",
    "### For example,\n",
    "if you're passing data between functions and don't want it to be altered, a tuple is appropriate.\n",
    "## 4-Using as Dictionary Keys:\n",
    "\n",
    "Since tuples are immutable, they can be used as keys in a dictionary, whereas lists cannot. This is useful if you need to create a dictionary that uses multiple pieces of data (e.g., a pair of coordinates) as the key.\n",
    "### Example:\n",
    "location = {(40.7128, 74.0060): 'New York', (34.0522, 118.2437): 'Los Angeles'}\n",
    "## 5-Packing and Unpacking:\n",
    "\n",
    "Tuples are commonly used for packing and unpacking multiple values into a single variable or vice versa, such as returning multiple values from a function.\n",
    "### Example of unpacking:\n",
    "coordinates = (10, 20)\n",
    "x, y = coordinates\n",
    "print(x)  # Output: 10\n",
    "print(y)  # Output: 20\n",
    "Summary of When to Use a Tuple vs. a List:\n",
    "## Use a tuple when:\n",
    "1-You need an immutable collection (data that shouldn’t change).\n",
    "\n",
    "2-You want to ensure performance and memory efficiency.\n",
    "\n",
    "3-You need to use the collection as a key in a dictionary.\n",
    "\n",
    "4-You need packing/unpacking multiple items.\n",
    "## Use a list when:\n",
    "\n",
    "1-You need a mutable collection (where you want to modify, add, or remove elements).  \n",
    "\n",
    "2-You want to store data that could change over time, such as user inputs or items that need updating.\n",
    "\n",
    "\n"
   ]
  },
  {
   "cell_type": "markdown",
   "id": "ca698007-18ff-46a1-bfa3-a442ca900bfa",
   "metadata": {},
   "source": [
    "## 16= how do yo filter a rows in a dataframe based on a codition"
   ]
  },
  {
   "cell_type": "code",
   "execution_count": 9,
   "id": "76e30d26-53f4-45e6-aee2-7b1d15c92f8a",
   "metadata": {},
   "outputs": [
    {
     "name": "stdout",
     "output_type": "stream",
     "text": [
      "    A  B\n",
      "1  12  2\n",
      "3  15  4\n"
     ]
    }
   ],
   "source": [
    "# To filter a DataFrame in Python using pandas based on a condition, you can use boolean indexing. Here's how you can filter rows where a column's value is greater than a specific value.\n",
    "\n",
    "##Example:\n",
    "#Suppose you have a DataFrame df and want to filter rows where the values in column A are greater than 10:\n",
    "import pandas as pd\n",
    "\n",
    "# Example DataFrame\n",
    "data = {'A': [5, 12, 8, 15, 3],\n",
    "        'B': [7, 2, 9, 4, 6]}\n",
    "df = pd.DataFrame(data)\n",
    "\n",
    "# Filter rows where column 'A' is greater than 10\n",
    "filtered_df = df[df['A'] > 10]\n",
    "\n",
    "print(filtered_df)\n",
    "# Explanation:\n",
    "# df['A'] > 10 creates a boolean series (True or False).\n",
    "# df[...] applies the condition to the DataFrame, returning only the rows where the condition is True.\n"
   ]
  },
  {
   "cell_type": "markdown",
   "id": "e8638828-4319-42b9-bc7b-7c879466b2ea",
   "metadata": {},
   "source": [
    "# 17= groupby() funtion work in pandas"
   ]
  },
  {
   "cell_type": "markdown",
   "id": "df91bbfc-67a7-40bb-9677-1faac475b903",
   "metadata": {},
   "source": [
    "### The groupby() function in pandas\n",
    "is used to group data based on one or more columns and then apply some aggregation or transformation to each group. It's a powerful tool for summarizing and analyzing data by different categories or features.\n",
    "\n",
    "### How groupby() works:\n",
    "##### Grouping: \n",
    "It first groups the data based on the values in the specified column(s).\n",
    "##### Aggregation:\n",
    "After grouping, you can apply aggregation functions (e.g., sum(), mean(), count()) to summarize each group.\n",
    "##### Transformation:\n",
    "You can also apply transformations (e.g., normalizing or applying custom functions) to the data.\n"
   ]
  },
  {
   "cell_type": "code",
   "execution_count": 13,
   "id": "24c9e76c-9fe6-44e5-bbdf-5fd912aa0bf9",
   "metadata": {},
   "outputs": [
    {
     "name": "stdout",
     "output_type": "stream",
     "text": [
      "Salesperson\n",
      "Alice    380\n",
      "Bob      380\n",
      "Name: Sales, dtype: int64\n"
     ]
    }
   ],
   "source": [
    "#example of case \n",
    "import pandas as pd\n",
    "\n",
    "# Sample data\n",
    "data = {\n",
    "    'Salesperson': ['Alice', 'Bob', 'Alice', 'Bob', 'Alice'],\n",
    "    'Region': ['North', 'South', 'North', 'South', 'North'],\n",
    "    'Sales': [100, 200, 150, 180, 130]\n",
    "}\n",
    "\n",
    "# Create DataFrame\n",
    "df = pd.DataFrame(data)\n",
    "\n",
    "# Group by 'Salesperson' and calculate the total sales for each person\n",
    "grouped_df = df.groupby('Salesperson')['Sales'].sum()\n",
    "\n",
    "print(grouped_df)\n"
   ]
  },
  {
   "cell_type": "markdown",
   "id": "c1ad2799-1a92-4d09-9b0f-c2279b8e2b64",
   "metadata": {},
   "source": [
    "# NUMPY and its use:\n",
    "NumPy (Numerical Python) is a powerful Python library for numerical computing. It provides support\n",
    "    for creating and manipulating large, multi-dimensional arrays \n",
    "    and matrices, along with a wide variety of mathematical functions to operate on these arrays.\n",
    "Primary use case:\n",
    "NumPy is widely used in data analysis, machine learning, and scientific computing,\n",
    "as it enables efficient operations on large datasets through \n",
    "its optimized C-based implementation and support for vectorized operations."
   ]
  },
  {
   "cell_type": "code",
   "execution_count": null,
   "id": "a58f0800-f648-4d83-9420-3878edc362ca",
   "metadata": {},
   "outputs": [],
   "source": [
    "# converision of list to array\n",
    "import numpy as np\n",
    "my_list = [1, 2, 3, 4, 5]\n",
    "np_array = np.array(my_list)"
   ]
  },
  {
   "cell_type": "markdown",
   "id": "6e754b7f-a35f-4c1d-ad66-696a9a15c400",
   "metadata": {},
   "source": [
    "# What is the difference between a Python list and a NumPy array?\n",
    "Feature\tPython List\tNumPy Array\n",
    "Data Type\tCan hold mixed data types.\tRequires homogeneous data types (all elements must be of the same type).\n",
    "Performance\tSlower, as it lacks optimization for numerical operations.\tFaster due to C-based implementation and support for vectorized operations.\n",
    "Functionality:\tLimited support for numerical and matrix operations.\tOffers extensive mathematical and matrix manipulation capabilities."
   ]
  },
  {
   "cell_type": "markdown",
   "id": "6225d786-b709-4cdb-bd1e-f52ec1929d15",
   "metadata": {},
   "source": [
    "# Create Array from List\n",
    "np.array([1, 2, 3])."
   ]
  },
  {
   "cell_type": "code",
   "execution_count": null,
   "id": "12b0290a-8813-45a7-91b8-8301eaf52f9d",
   "metadata": {},
   "outputs": [],
   "source": [
    "#How do you create a 2D array (matrix) in NumPy?\n",
    "#A 2D array (matrix) can be created by passing a nested list (list of lists) to the numpy.array() function.\n",
    "import numpy as np\n",
    "matrix = np.array([[1, 2, 3], [4, 5, 6], [7, 8, 9]])"
   ]
  },
  {
   "cell_type": "code",
   "execution_count": null,
   "id": "a0533a7d-b565-4030-a583-ce76ec29c5da",
   "metadata": {},
   "outputs": [],
   "source": [
    "#What is the purpose of the np.arange() function?\n",
    "#The np.arange() function generates an array with evenly spaced values within a specified range.\n",
    "#Syntax:\n",
    "import numpy as np\n",
    "array = np.arange(1, 10, 2)\n",
    "#np.arange(start, stop, step)"
   ]
  },
  {
   "cell_type": "markdown",
   "id": "0a24a611-7a5e-4137-9bac-1ebf48871fc8",
   "metadata": {},
   "source": [
    "# How do you find the shape of a NumPy array?\n",
    "The shape of a NumPy array can be determined using the .shape attribute, which returns a tuple representing the dimensions of the array.\n",
    "Example:\n",
    "array = np.array([[1, 2, 3], [4, 5, 6]])\n",
    "print(array.shape)"
   ]
  },
  {
   "cell_type": "markdown",
   "id": "57ad1260-3d0d-413d-88c9-dc629ac401f7",
   "metadata": {},
   "source": [
    "# What does the np.reshape() function do?\n",
    "The np.reshape() function changes the shape of a NumPy array without altering its data.\n",
    "It requires that the total number of elements in the reshaped array matches the original array.\n",
    "Example:\n",
    "array = np.array([1, 2, 3, 4, 5, 6])\n",
    "reshaped_array = np.reshape(array, (2, 3))"
   ]
  },
  {
   "cell_type": "code",
   "execution_count": null,
   "id": "60cadc44-6270-4934-ac13-a2ef83b95f34",
   "metadata": {},
   "outputs": [],
   "source": [
    "#8. How do you perform element-wise addition of two NumPy arrays?\n",
    "#Element-wise addition of two NumPy arrays can be done using the + operator.\n",
    "#The arrays must have the same shape or be compatible via broadcasting.\n",
    "#Example:\n",
    "a = np.array([1, 2, 3])\n",
    "b = np.array([4, 5, 6])\n",
    "result = a + b"
   ]
  },
  {
   "cell_type": "markdown",
   "id": "5828fb08-4fdc-4fd0-877b-593fc6ede3c3",
   "metadata": {},
   "source": [
    "# 9. What is broadcasting in NumPy?\n",
    "Broadcasting in NumPy refers to the ability to perform operations on arrays \n",
    "of different shapes by automatically expanding the smaller array to match \n",
    "the larger arraydimensions. \n",
    "This avoids the need to manually replicate data.\n",
    "Example:\n",
    "a = np.array([1, 2, 3])\n",
    "b = 5\n",
    "result = a + b"
   ]
  },
  {
   "cell_type": "code",
   "execution_count": null,
   "id": "01f3ec83-4931-486f-89fa-8642b835fd3c",
   "metadata": {},
   "outputs": [],
   "source": [
    "# mean of upy array\n",
    "import numpy as np\n",
    "array = np.array([1, 2, 3, 4, 5])\n",
    "mean_value = np.mean(array)"
   ]
  },
  {
   "cell_type": "markdown",
   "id": "85db5193-4f13-4739-97a4-d654beb6b1ef",
   "metadata": {},
   "source": [
    "# Series vs DataFrame\n",
    "Series: 1D (single column); DataFrame: 2D (multiple columns)."
   ]
  },
  {
   "cell_type": "markdown",
   "id": "125d770b-0e91-49a8-bd7b-710c086c63a2",
   "metadata": {},
   "source": [
    "# Matplotlib\n",
    "Matplotlib\n",
    "Library for creating static, interactive, or animated visualizations."
   ]
  },
  {
   "cell_type": "markdown",
   "id": "da213d77-c202-4191-affc-8ca15ef72605",
   "metadata": {},
   "source": [
    "# Line Plot\n",
    "plt.plot(x_values, y_values)."
   ]
  },
  {
   "cell_type": "markdown",
   "id": "4c442e9a-5580-4732-9bff-32c3b3592944",
   "metadata": {},
   "source": [
    "# plot() vs scatter()\n",
    "plot() connects points; scatter() shows individual points.\n"
   ]
  },
  {
   "cell_type": "markdown",
   "id": "d01f0b88-9e90-4203-a6c9-a1846d940f76",
   "metadata": {},
   "source": [
    "# Plot Title\n",
    "plt.title('Title')."
   ]
  },
  {
   "cell_type": "markdown",
   "id": "67fc4828-db68-4395-a06c-4ef259331496",
   "metadata": {},
   "source": [
    "# plot labelling\n",
    "plt.xlabel('X Label'), plt.ylabel('Y Label')"
   ]
  },
  {
   "cell_type": "markdown",
   "id": "3af317e3-3131-4765-9f58-a9aab36d2069",
   "metadata": {},
   "source": [
    "# function pf plt.legend()\n",
    "plt.legend()\n",
    "Displays labels for plot elements."
   ]
  },
  {
   "cell_type": "markdown",
   "id": "2124877b-3dae-4fea-bacb-24936a3e3d18",
   "metadata": {},
   "source": [
    "# Bar Chart\n",
    "plt.bar(categories, values)."
   ]
  },
  {
   "cell_type": "markdown",
   "id": "e9e3e5ad-c2c0-4532-8deb-a4b7dec7cd94",
   "metadata": {},
   "source": [
    "# Save Plot as an image file\n",
    "plt.savefig('plot.png')."
   ]
  },
  {
   "cell_type": "markdown",
   "id": "32fca14d-2612-437f-8898-f21aff2c45b9",
   "metadata": {},
   "source": [
    "# figure() vs subplot()\n",
    "figure() creates a new canvas; subplot() adds a plot to a grid."
   ]
  },
  {
   "cell_type": "markdown",
   "id": "55c2cdab-893c-465f-8f1c-eb954d1a260c",
   "metadata": {},
   "source": [
    "# Histogram\n",
    "plt.hist(data, bins=10)."
   ]
  },
  {
   "cell_type": "markdown",
   "id": "59f5bd39-2126-4a36-a657-e4e6b6f4678b",
   "metadata": {},
   "source": [
    "# Seaborn\n",
    "Seaborn\n",
    "High-level interface for statistical graphics; built on Matplotlib."
   ]
  },
  {
   "cell_type": "markdown",
   "id": "4f999870-167f-4fe5-8a15-7471d1a8ed81",
   "metadata": {},
   "source": [
    "# Scatter Plot usng seaborn\n",
    "sns.scatterplot(x='col1', y='col2', data=df)."
   ]
  },
  {
   "cell_type": "markdown",
   "id": "b15e3642-696d-490a-999a-5138c4d32ebc",
   "metadata": {},
   "source": [
    "# sns.set()\n",
    "Sets aesthetic defaults (e.g., sns.set(style='darkgrid'))."
   ]
  },
  {
   "cell_type": "markdown",
   "id": "698af6d6-9c8c-4899-b45f-9e514fec8116",
   "metadata": {},
   "source": [
    "# Histogram usng sea born\n",
    "sns.histplot(data=df, x='column')."
   ]
  },
  {
   "cell_type": "markdown",
   "id": "e1128b87-c2d7-4306-898e-428368064b9f",
   "metadata": {},
   "source": [
    "# histplot() vs kdeplot()\n",
    "histplot() shows counts; kdeplot() shows smoothed density."
   ]
  },
  {
   "cell_type": "markdown",
   "id": "64a865cb-e966-42dd-b848-7cda563d744f",
   "metadata": {},
   "source": [
    "# Heatmap using seaborn\n",
    "sns.heatmap(data_matrix)."
   ]
  },
  {
   "cell_type": "markdown",
   "id": "82ea6a5d-cbfd-4095-a22c-6f5159f7b9f5",
   "metadata": {},
   "source": [
    "# pairplot() function\n",
    "Creates scatter plots for all numerical columns in a DataFrame."
   ]
  },
  {
   "cell_type": "markdown",
   "id": "4013f498-1643-4a67-bd65-4c83e9adaff2",
   "metadata": {},
   "source": [
    "# Regression Line to scatter plot in sea born\n",
    "sns.regplot(x='col1', y='col2', data=df)."
   ]
  },
  {
   "cell_type": "markdown",
   "id": "41504e77-70fc-48a0-9c09-cb58ec1278c0",
   "metadata": {},
   "source": [
    "# Change Theme in sea born\n",
    "sns.set_style('darkgrid')."
   ]
  },
  {
   "cell_type": "markdown",
   "id": "17f01825-55ec-4301-9174-5b7570725a34",
   "metadata": {},
   "source": [
    "# Box Plot using seaborn\n",
    "sns.boxplot(x='category', y='value', data=df)."
   ]
  },
  {
   "cell_type": "markdown",
   "id": "9b93919d-7c33-4676-9c89-b575d15e8518",
   "metadata": {},
   "source": [
    "# Random Library\n",
    "# Purpose\n",
    "Generates pseudo-random numbers for simulations, games, etc."
   ]
  },
  {
   "cell_type": "markdown",
   "id": "26f62027-6ae7-46c5-8f91-5b106811cded",
   "metadata": {},
   "source": [
    "# Random Integer between 1 and hundred\n",
    "random.randint(1, 100)."
   ]
  },
  {
   "cell_type": "markdown",
   "id": "a47e832f-a149-43ab-baf5-5b0ae8ef4233",
   "metadata": {},
   "source": [
    "# randint() vs randrange()\n",
    "randint(1, 10) includes 10; randrange(1, 10) stops at 9."
   ]
  },
  {
   "cell_type": "markdown",
   "id": "a7cc5912-88ef-4fcf-b578-9c4fb95a06b6",
   "metadata": {},
   "source": [
    "# Random Floating point between 0 and 1\n",
    "random.random()."
   ]
  },
  {
   "cell_type": "markdown",
   "id": "a114f044-85e1-4d9f-9ecf-4c47b7343256",
   "metadata": {},
   "source": [
    "# Shuffle List using random library\n",
    "random.shuffle(my_list)."
   ]
  },
  {
   "cell_type": "markdown",
   "id": "49dd3dcb-6d8a-4326-907e-61f33353764b",
   "metadata": {},
   "source": [
    "# purpose of random.seed()\n",
    "Ensures reproducibility (e.g., random.seed(42))."
   ]
  },
  {
   "cell_type": "markdown",
   "id": "891764aa-fd97-44fa-a303-a11748767729",
   "metadata": {},
   "source": [
    "# Select Element from list using random library\n",
    "random.choice(my_list)."
   ]
  },
  {
   "cell_type": "markdown",
   "id": "e3a3257f-7725-46e0-aaae-af5462ce3300",
   "metadata": {},
   "source": [
    "# Random Sample of 5 elements list\n",
    "random.sample(my_list, 5)."
   ]
  },
  {
   "cell_type": "markdown",
   "id": "441fd5c4-648d-475e-9499-397f1ceba89b",
   "metadata": {},
   "source": [
    "# Normal Distribution using random library\n",
    "random.gauss(mu=0, sigma=1) or random.normalvariate()."
   ]
  }
 ],
 "metadata": {
  "kernelspec": {
   "display_name": "Python [conda env:base] *",
   "language": "python",
   "name": "conda-base-py"
  },
  "language_info": {
   "codemirror_mode": {
    "name": "ipython",
    "version": 3
   },
   "file_extension": ".py",
   "mimetype": "text/x-python",
   "name": "python",
   "nbconvert_exporter": "python",
   "pygments_lexer": "ipython3",
   "version": "3.12.7"
  }
 },
 "nbformat": 4,
 "nbformat_minor": 5
}
